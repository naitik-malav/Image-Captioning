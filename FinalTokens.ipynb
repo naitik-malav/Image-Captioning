{
 "cells": [
  {
   "cell_type": "code",
   "execution_count": 1,
   "id": "35b3390f",
   "metadata": {},
   "outputs": [
    {
     "name": "stdout",
     "output_type": "stream",
     "text": [
      "['ATM1', 'ATM10', 'ATM11', 'ATM12', 'ATM13', 'ATM14', 'ATM15', 'ATM16', 'ATM17', 'ATM18', 'ATM19', 'ATM2', 'ATM20', 'ATM21', 'ATM22', 'ATM23', 'ATM24', 'ATM25', 'ATM26', 'ATM27', 'ATM28', 'ATM29', 'ATM3', 'ATM30', 'ATM31', 'ATM32', 'ATM33', 'ATM34', 'ATM35', 'ATM36', 'ATM37', 'ATM38', 'ATM39', 'ATM4', 'ATM40', 'ATM5', 'ATM6', 'ATM7', 'ATM8', 'ATM9', 'ATM_queue1', 'ATM_queue10', 'ATM_queue11', 'ATM_queue12', 'ATM_queue13', 'ATM_queue14', 'ATM_queue15', 'ATM_queue16', 'ATM_queue17', 'ATM_queue18', 'ATM_queue19', 'ATM_queue2', 'ATM_queue20', 'ATM_queue21', 'ATM_queue22', 'ATM_queue23', 'ATM_queue24', 'ATM_queue25', 'ATM_queue26', 'ATM_queue27', 'ATM_queue28', 'ATM_queue29', 'ATM_queue3', 'ATM_queue30', 'ATM_queue31', 'ATM_queue32', 'ATM_queue33', 'ATM_queue34', 'ATM_queue35', 'ATM_queue36', 'ATM_queue37', 'ATM_queue38', 'ATM_queue39', 'ATM_queue4', 'ATM_queue40', 'ATM_queue5', 'ATM_queue6', 'ATM_queue7', 'ATM_queue8', 'ATM_queue9', 'ATM_use1', 'ATM_use10', 'ATM_use11', 'ATM_use12', 'ATM_use13', 'ATM_use14', 'ATM_use15', 'ATM_use16', 'ATM_use17', 'ATM_use18', 'ATM_use19', 'ATM_use2', 'ATM_use20', 'ATM_use21', 'ATM_use22', 'ATM_use23', 'ATM_use24', 'ATM_use25', 'ATM_use26', 'ATM_use27', 'ATM_use28', 'ATM_use29', 'ATM_use3', 'ATM_use30', 'ATM_use31', 'ATM_use32', 'ATM_use33', 'ATM_use34', 'ATM_use35', 'ATM_use36', 'ATM_use37', 'ATM_use38', 'ATM_use39', 'ATM_use4', 'ATM_use40', 'ATM_use5', 'ATM_use6', 'ATM_use7', 'ATM_use8', 'ATM_use9', 'bench1', 'bench10', 'bench11', 'bench12', 'bench13', 'bench14', 'bench15', 'bench16', 'bench17', 'bench18', 'bench19', 'bench2', 'bench20', 'bench21', 'bench22', 'bench23', 'bench24', 'bench25', 'bench26', 'bench27', 'bench28', 'bench29', 'bench3', 'bench30', 'bench31', 'bench32', 'bench33', 'bench34', 'bench35', 'bench36', 'bench37', 'bench38', 'bench39', 'bench4', 'bench40', 'bench41', 'bench42', 'bench43', 'bench44', 'bench45', 'bench46', 'bench47', 'bench48', 'bench49', 'bench5', 'bench50', 'bench6', 'bench7', 'bench8', 'bench9', 'bus1', 'bus10', 'bus11', 'bus12', 'bus13', 'bus14', 'bus15', 'bus16', 'bus17', 'bus18', 'bus19', 'bus2', 'bus20', 'bus21', 'bus22', 'bus23', 'bus24', 'bus25', 'bus26', 'bus27', 'bus28', 'bus29', 'bus3', 'bus30', 'bus31', 'bus32', 'bus33', 'bus34', 'bus35', 'bus36', 'bus37', 'bus38', 'bus39', 'bus4', 'bus40', 'bus5', 'bus6', 'bus7', 'bus8', 'bus9', 'chem1', 'chem10', 'chem11', 'chem12', 'chem13', 'chem14', 'chem15', 'chem16', 'chem17', 'chem18', 'chem19', 'chem2', 'chem20', 'chem21', 'chem22', 'chem23', 'chem24', 'chem25', 'chem26', 'chem27', 'chem28', 'chem29', 'chem3', 'chem30', 'chem31', 'chem32', 'chem33', 'chem34', 'chem35', 'chem36', 'chem37', 'chem38', 'chem39', 'chem4', 'chem40', 'chem5', 'chem6', 'chem7', 'chem8', 'chem9', 'door1', 'door10', 'door11', 'door12', 'door13', 'door14', 'door15', 'door16', 'door17', 'door18', 'door19', 'door2', 'door20', 'door21', 'door22', 'door23', 'door24', 'door25', 'door26', 'door27', 'door28', 'door29', 'door3', 'door30', 'door31', 'door32', 'door33', 'door34', 'door35', 'door36', 'door37', 'door38', 'door39', 'door4', 'door40', 'door41', 'door42', 'door43', 'door44', 'door45', 'door46', 'door47', 'door48', 'door49', 'door5', 'door50', 'door6', 'door7', 'door8', 'door9', 'greensig1', 'greensig10', 'greensig11', 'greensig12', 'greensig13', 'greensig14', 'greensig15', 'greensig16', 'greensig17', 'greensig18', 'greensig19', 'greensig2', 'greensig20', 'greensig21', 'greensig22', 'greensig23', 'greensig24', 'greensig25', 'greensig26', 'greensig27', 'greensig28', 'greensig29', 'greensig3', 'greensig30', 'greensig31', 'greensig32', 'greensig33', 'greensig34', 'greensig35', 'greensig36', 'greensig37', 'greensig38', 'greensig39', 'greensig4', 'greensig40', 'greensig41', 'greensig42', 'greensig43', 'greensig44', 'greensig45', 'greensig46', 'greensig47', 'greensig48', 'greensig49', 'greensig5', 'greensig50', 'greensig51', 'greensig52', 'greensig53', 'greensig54', 'greensig55', 'greensig56', 'greensig57', 'greensig58', 'greensig59', 'greensig6', 'greensig60', 'greensig61', 'greensig62', 'greensig63', 'greensig64', 'greensig65', 'greensig7', 'greensig8', 'greensig9', 'lift1', 'lift10', 'lift11', 'lift12', 'lift13', 'lift14', 'lift15', 'lift16', 'lift17', 'lift18', 'lift19', 'lift2', 'lift20', 'lift21', 'lift22', 'lift23', 'lift24', 'lift25', 'lift26', 'lift27', 'lift28', 'lift29', 'lift3', 'lift30', 'lift31', 'lift32', 'lift33', 'lift34', 'lift35', 'lift36', 'lift37', 'lift38', 'lift39', 'lift4', 'lift40', 'lift5', 'lift6', 'lift7', 'lift8', 'lift9', 'redsig1', 'redsig10', 'redsig11', 'redsig12', 'redsig13', 'redsig14', 'redsig15', 'redsig16', 'redsig17', 'redsig18', 'redsig19', 'redsig2', 'redsig20', 'redsig21', 'redsig22', 'redsig23', 'redsig24', 'redsig25', 'redsig26', 'redsig27', 'redsig28', 'redsig29', 'redsig3', 'redsig30', 'redsig31', 'redsig32', 'redsig33', 'redsig34', 'redsig35', 'redsig36', 'redsig37', 'redsig38', 'redsig39', 'redsig4', 'redsig40', 'redsig41', 'redsig42', 'redsig43', 'redsig44', 'redsig45', 'redsig46', 'redsig47', 'redsig48', 'redsig49', 'redsig5', 'redsig50', 'redsig51', 'redsig52', 'redsig53', 'redsig54', 'redsig55', 'redsig56', 'redsig57', 'redsig58', 'redsig59', 'redsig6', 'redsig60', 'redsig61', 'redsig62', 'redsig63', 'redsig64', 'redsig65', 'redsig7', 'redsig8', 'redsig9', 'stairsdown_1', 'stairsdown_10', 'stairsdown_11', 'stairsdown_12', 'stairsdown_13', 'stairsdown_14', 'stairsdown_15', 'stairsdown_16', 'stairsdown_17', 'stairsdown_18', 'stairsdown_19', 'stairsdown_2', 'stairsdown_20', 'stairsdown_21', 'stairsdown_22', 'stairsdown_23', 'stairsdown_24', 'stairsdown_25', 'stairsdown_26', 'stairsdown_27', 'stairsdown_28', 'stairsdown_29', 'stairsdown_3', 'stairsdown_30', 'stairsdown_31', 'stairsdown_32', 'stairsdown_33', 'stairsdown_34', 'stairsdown_35', 'stairsdown_36', 'stairsdown_37', 'stairsdown_38', 'stairsdown_39', 'stairsdown_4', 'stairsdown_40', 'stairsdown_5', 'stairsdown_6', 'stairsdown_7', 'stairsdown_8', 'stairsdown_9', 'stairsup_1', 'stairsup_10', 'stairsup_11', 'stairsup_12', 'stairsup_13', 'stairsup_14', 'stairsup_15', 'stairsup_16', 'stairsup_17', 'stairsup_18', 'stairsup_19', 'stairsup_2', 'stairsup_20', 'stairsup_21', 'stairsup_22', 'stairsup_23', 'stairsup_24', 'stairsup_25', 'stairsup_26', 'stairsup_27', 'stairsup_28', 'stairsup_29', 'stairsup_3', 'stairsup_30', 'stairsup_31', 'stairsup_32', 'stairsup_33', 'stairsup_34', 'stairsup_35', 'stairsup_36', 'stairsup_37', 'stairsup_38', 'stairsup_39', 'stairsup_4', 'stairsup_40', 'stairsup_5', 'stairsup_6', 'stairsup_7', 'stairsup_8', 'stairsup_9', 'tactile1', 'tactile10', 'tactile11', 'tactile12', 'tactile13', 'tactile14', 'tactile15', 'tactile17', 'tactile18', 'tactile19', 'tactile2', 'tactile20', 'tactile21', 'tactile22', 'tactile23', 'tactile24', 'tactile25', 'tactile26', 'tactile27', 'tactile28', 'tactile3', 'tactile30', 'tactile31', 'tactile35', 'tactile36', 'tactile37', 'tactile38', 'tactile39', 'tactile4', 'tactile41', 'tactile42', 'tactile43', 'tactile44', 'tactile45', 'tactile46', 'tactile47', 'tactile48', 'tactile49', 'tactile5', 'tactile50', 'tactile51', 'tactile52', 'tactile53', 'tactile54', 'tactile55', 'tactile56', 'tactile57', 'tactile58', 'tactile59', 'tactile6', 'tactile60', 'tactile61', 'tactile62', 'tactile63', 'tactile64', 'tactile65', 'tactile66', 'tactile67', 'tactile7', 'tactile71', 'tactile73', 'tactile74', 'tactile75', 'tactile76', 'tactile77', 'tactile78', 'tactile79', 'tactile8', 'tactile80', 'tactile9', 'trash1', 'trash10', 'trash11', 'trash12', 'trash13', 'trash14', 'trash15', 'trash16', 'trash17', 'trash18', 'trash19', 'trash2', 'trash20', 'trash21', 'trash22', 'trash23', 'trash24', 'trash25', 'trash26', 'trash27', 'trash28', 'trash29', 'trash3', 'trash30', 'trash31', 'trash32', 'trash33', 'trash34', 'trash35', 'trash36', 'trash37', 'trash38', 'trash39', 'trash4', 'trash40', 'trash41', 'trash42', 'trash43', 'trash44', 'trash45', 'trash46', 'trash47', 'trash48', 'trash49', 'trash5', 'trash50', 'trash6', 'trash7', 'trash8', 'trash9', 'wait1', 'wait10', 'wait11', 'wait12', 'wait13', 'wait14', 'wait15', 'wait16', 'wait17', 'wait18', 'wait19', 'wait2', 'wait20', 'wait21', 'wait22', 'wait23', 'wait24', 'wait25', 'wait26', 'wait27', 'wait28', 'wait29', 'wait3', 'wait30', 'wait31', 'wait32', 'wait33', 'wait34', 'wait35', 'wait36', 'wait37', 'wait38', 'wait39', 'wait4', 'wait40', 'wait41', 'wait42', 'wait43', 'wait44', 'wait45', 'wait46', 'wait47', 'wait48', 'wait49', 'wait5', 'wait50', 'wait6', 'wait7', 'wait8', 'wait9', 'wallet1', 'wallet10', 'wallet11', 'wallet12', 'wallet13', 'wallet14', 'wallet15', 'wallet16', 'wallet17', 'wallet18', 'wallet19', 'wallet2', 'wallet20', 'wallet21', 'wallet22', 'wallet23', 'wallet24', 'wallet25', 'wallet26', 'wallet27', 'wallet28', 'wallet29', 'wallet3', 'wallet30', 'wallet31', 'wallet32', 'wallet33', 'wallet34', 'wallet35', 'wallet4', 'wallet5', 'wallet6', 'wallet7', 'wallet8', 'wallet9', 'washroom1', 'washroom10', 'washroom11', 'washroom12', 'washroom13', 'washroom14', 'washroom15', 'washroom16', 'washroom17', 'washroom18', 'washroom19', 'washroom2', 'washroom20', 'washroom21', 'washroom22', 'washroom23', 'washroom24', 'washroom25', 'washroom26', 'washroom27', 'washroom28', 'washroom29', 'washroom3', 'washroom30', 'washroom31', 'washroom32', 'washroom33', 'washroom34', 'washroom35', 'washroom36', 'washroom37', 'washroom38', 'washroom39', 'washroom4', 'washroom40', 'washroom41', 'washroom42', 'washroom43', 'washroom44', 'washroom45', 'washroom46', 'washroom47', 'washroom48', 'washroom49', 'washroom5', 'washroom50', 'washroom6', 'washroom7', 'washroom8', 'washroom9', 'wetfloor1', 'wetfloor10', 'wetfloor11', 'wetfloor12', 'wetfloor13', 'wetfloor14', 'wetfloor15', 'wetfloor16', 'wetfloor17', 'wetfloor18', 'wetfloor19', 'wetfloor2', 'wetfloor20', 'wetfloor21', 'wetfloor22', 'wetfloor23', 'wetfloor24', 'wetfloor25', 'wetfloor26', 'wetfloor27', 'wetfloor28', 'wetfloor29', 'wetfloor3', 'wetfloor30', 'wetfloor31', 'wetfloor32', 'wetfloor33', 'wetfloor34', 'wetfloor35', 'wetfloor36', 'wetfloor37', 'wetfloor38', 'wetfloor39', 'wetfloor4', 'wetfloor40', 'wetfloor41', 'wetfloor42', 'wetfloor43', 'wetfloor44', 'wetfloor45', 'wetfloor46', 'wetfloor47', 'wetfloor48', 'wetfloor49', 'wetfloor5', 'wetfloor50', 'wetfloor6', 'wetfloor7', 'wetfloor8', 'wetfloor9']\n"
     ]
    }
   ],
   "source": [
    "import os\n",
    "directory = 'archive\\\\visuallyimpair\\\\visual_dataset'\n",
    "\n",
    "image_name = []\n",
    "for filename in os.listdir(directory):\n",
    "    f = os.path.join(filename)\n",
    "    image_name.append(f.split('.')[0])\n",
    "\n",
    "print((image_name))\n",
    "        "
   ]
  },
  {
   "cell_type": "code",
   "execution_count": 2,
   "id": "f63cd7be",
   "metadata": {},
   "outputs": [],
   "source": [
    "file = 'archive\\\\visuallyimpair\\\\visual_text\\\\visual.token.txt'\n",
    "\n",
    "with open('archive\\\\visuallyimpair\\\\visual_text\\\\final.tokens.txt', 'w') as f:\n",
    "    for name in image_name:\n",
    "        with open(file, \"r\") as tokens:  \n",
    "            for line in tokens:\n",
    "                l = line.strip()\n",
    "                if name == l.split('.')[0]:\n",
    "                    f.write(l)\n",
    "                    f.write('\\n')"
   ]
  },
  {
   "cell_type": "code",
   "execution_count": null,
   "id": "f025a109",
   "metadata": {},
   "outputs": [],
   "source": []
  }
 ],
 "metadata": {
  "kernelspec": {
   "display_name": "Python 3 (ipykernel)",
   "language": "python",
   "name": "python3"
  },
  "language_info": {
   "codemirror_mode": {
    "name": "ipython",
    "version": 3
   },
   "file_extension": ".py",
   "mimetype": "text/x-python",
   "name": "python",
   "nbconvert_exporter": "python",
   "pygments_lexer": "ipython3",
   "version": "3.9.7"
  }
 },
 "nbformat": 4,
 "nbformat_minor": 5
}
